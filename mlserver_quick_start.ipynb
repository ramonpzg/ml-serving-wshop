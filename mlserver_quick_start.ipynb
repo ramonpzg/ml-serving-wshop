{
 "cells": [
  {
   "cell_type": "markdown",
   "metadata": {},
   "source": [
    "# MLServer Quick-Start Guide"
   ]
  },
  {
   "cell_type": "markdown",
   "metadata": {},
   "source": [
    "This guide will help you get started creating machine learning microservices with MLServer \n",
    "in less than 30 minutes. Our use case is to create a service that helps us compare the similarity \n",
    "between two documents. Think about whenever you are comparing a book, news article, blog post, \n",
    "or tutorial to read next, wouldn't it be great to have a way to compare with \n",
    "similar ones that you have already liked (without having to rely on a recommendation's system)? \n",
    "That's what we'll focus on this guide, on creating a document similarity service. 📜 + 📃 = 😎👌🔥"
   ]
  },
  {
   "cell_type": "markdown",
   "metadata": {},
   "source": [
    "## 00 What is MLServer?"
   ]
  },
  {
   "cell_type": "markdown",
   "metadata": {},
   "source": [
    "MLServer is an open-source Python library for building production-ready asynchronous APIs for machine learning models."
   ]
  },
  {
   "cell_type": "markdown",
   "metadata": {},
   "source": [
    "## 01 Dependencies"
   ]
  },
  {
   "cell_type": "markdown",
   "metadata": {},
   "source": [
    "The first step is to install `mlserver`, the `spacy` library, and the [language model](https://spacy.io/models/en#en_core_web_lg) \n",
    "`spacy` will need for our use case. We will also download the `wikipedia-api` library to \n",
    "test our use case with a few fun summaries.\n",
    "\n",
    "If you've never heard of [spaCy](https://spacy.io/) before, it is an open-source Python \n",
    "library for advanced natural language processing that excels at large-scale information \n",
    "extraction and retrieval tasks, among many others. The model we'll use is a pre-trained \n",
    "model on English text from the web. This model will help us get started with our use case \n",
    "faster than if we had to train a model from scratch for our use case.\n",
    "\n",
    "Let's first install these libraries."
   ]
  },
  {
   "cell_type": "code",
   "execution_count": null,
   "metadata": {},
   "outputs": [],
   "source": [
    "pip install mlserver spacy wikipedia-api"
   ]
  },
  {
   "cell_type": "markdown",
   "metadata": {},
   "source": [
    "We will also need to download the language model separately once we have spaCy inside our virtual environment."
   ]
  },
  {
   "cell_type": "code",
   "execution_count": null,
   "metadata": {},
   "outputs": [],
   "source": [
    "python -m spacy download en_core_web_lg"
   ]
  },
  {
   "cell_type": "markdown",
   "metadata": {},
   "source": [
    "If you're going over this tutorial inside a notebook, don't forget to add an exclamation mark `!` \n",
    "in front of the two commands above."
   ]
  },
  {
   "cell_type": "markdown",
   "metadata": {},
   "source": [
    "## 02 Set Up"
   ]
  },
  {
   "cell_type": "markdown",
   "metadata": {},
   "source": [
    "![setup](./images/mlserver_setup.png)\n",
    "\n",
    "At its core, MLServer requires that users give it 3 things, a `model-settings.json` file with \n",
    "information about the model, an (optional) `settings.json` file with information related to the server you \n",
    "are about to set up, and a `.py` file with the load-predict recipe for your model (as shown in the \n",
    "picture above).\n",
    "\n",
    "Let's create a directory for our model."
   ]
  },
  {
   "cell_type": "code",
   "execution_count": 1,
   "metadata": {},
   "outputs": [],
   "source": [
    "mkdir -p models_hub/similarity_model"
   ]
  },
  {
   "cell_type": "markdown",
   "metadata": {},
   "source": [
    "Before we create a service that allows us to compare the similarity between two documents, it is \n",
    "good practice to first test that our solution works first, especially if we're using a pre-trained \n",
    "model and/or a pipeline."
   ]
  },
  {
   "cell_type": "code",
   "execution_count": 2,
   "metadata": {},
   "outputs": [],
   "source": [
    "import spacy"
   ]
  },
  {
   "cell_type": "code",
   "execution_count": 3,
   "metadata": {},
   "outputs": [],
   "source": [
    "nlp = spacy.load(\"en_core_web_lg\")"
   ]
  },
  {
   "cell_type": "markdown",
   "metadata": {},
   "source": [
    "Now that we have our model loaded, let's look at the similarity of the abstracts of [Barbieheimer](https://en.wikipedia.org/wiki/Barbenheimer) \n",
    "using the Wikipedia API to see how similar these two movies actually are.\n",
    "\n",
    "To do this, we will be using the Wikipedia API Python library to find the summary for each \n",
    "of the movies. The main requirement of the API is that we pass into the main class, `Wikipedia()`, \n",
    "a project name, an email and the language we want information to be returned in. After that, \n",
    "we can search the for the movie summaries we want by passing the title of the movie to the \n",
    "`.page()` method and accessing the summary of it with the `.summary` attribute.\n",
    "\n",
    "Feel free to change the movies for other topics you might be interested in."
   ]
  },
  {
   "cell_type": "code",
   "execution_count": 4,
   "metadata": {},
   "outputs": [],
   "source": [
    "import wikipediaapi"
   ]
  },
  {
   "cell_type": "code",
   "execution_count": 5,
   "metadata": {},
   "outputs": [],
   "source": [
    "wiki_wiki = wikipediaapi.Wikipedia('MyMovieEval (example@example.com)', 'en')"
   ]
  },
  {
   "cell_type": "code",
   "execution_count": 6,
   "metadata": {},
   "outputs": [
    {
     "name": "stdout",
     "output_type": "stream",
     "text": [
      "Barbie is a 2023 American fantasy comedy film directed by Greta Gerwig and written by Gerwig and Noah Baumbach. Based on the Barbie fashion dolls by Mattel, it is the first live-action Barbie film after numerous computer-animated direct-to-video and streaming television films. The film stars Margot Robbie as Barbie and Ryan Gosling as Ken, and follows the two on a journey of self-discovery following an existential crisis. The film also features an ensemble cast that includes America Ferrera, Kate McKinnon, Issa Rae, Rhea Perlman, and Will Ferrell.\n",
      "A live-action Barbie film was announced in September 2009 by Universal Pictures with Laurence Mark producing. Development began in April 2014, when Sony Pictures acquired the film rights. Following multiple writer and director changes and the casting of Amy Schumer and later Anne Hathaway as Barbie, the rights were transferred to Warner Bros. Pictures in October 2018. Robbie was cast in 2019, and Gerwig was announced as director and co-writer with Baumbach in 2021. The rest of the cast were announced in early 2022. Filming took place primarily at Warner Bros. Studios, Leavesden, in England and on the Venice Beach Skatepark in Los Angeles from March to July 2022.\n",
      "Barbie premiered at the Shrine Auditorium in Los Angeles on July 9, 2023, and was theatrically released in the United States on July 21, 2023, by Warner Bros. Pictures. Its simultaneous release with Oppenheimer led to the \"Barbenheimer\" phenomenon on social media, which encouraged audiences to see both films as a double feature. The film received positive reviews, and has grossed $382 million worldwide.\n",
      "\n",
      "Oppenheimer is a 2023 biographical thriller film written and directed by Christopher Nolan. Based on the 2005 biography American Prometheus by Kai Bird and Martin J. Sherwin, the film chronicles the life of J. Robert Oppenheimer, a theoretical physicist who was pivotal in developing the first nuclear weapons as part of the Manhattan Project, and thereby ushering in the Atomic Age. Cillian Murphy stars as Oppenheimer, with Emily Blunt as Oppenheimer's wife Katherine \"Kitty\" Oppenheimer; Matt Damon as General Leslie Groves, director of the Manhattan Project; and Robert Downey Jr. as Lewis Strauss, a senior member of the United States Atomic Energy Commission. The ensemble supporting cast includes Florence Pugh, Josh Hartnett, Casey Affleck, Rami Malek, Gary Oldman and Kenneth Branagh.\n",
      "The project was announced in September 2021 after Universal Pictures won a bidding war for Nolan's screenplay. Murphy signed on to portray Oppenheimer in October, with others in the main cast joining between November 2021 and April 2022. Pre-production was underway by January 2022, with filming taking place from February to May. Oppenheimer was filmed in a combination of IMAX 65 mm and 65 mm large-format film, including, for the first time in history, sections in IMAX black-and-white film photography. As with his previous works, Nolan used extensive practical effects and minimal computer-generated imagery.\n",
      "Oppenheimer premiered at Le Grand Rex in Paris on July 11, 2023, and was theatrically released in the United States and United Kingdom on July 21, 2023, by Universal Pictures. Its simultaneous release with Barbie led to the \"Barbenheimer\" phenomenon on social media, which encouraged audiences to see both films as a double feature. The film has grossed over $192 million worldwide and received critical acclaim, with particular praise for its cast, screenplay, and visuals.\n"
     ]
    }
   ],
   "source": [
    "barbie = wiki_wiki.page('Barbie_(film)').summary\n",
    "oppenheimer = wiki_wiki.page('Oppenheimer_(film)').summary\n",
    "\n",
    "print(barbie)\n",
    "print()\n",
    "print(oppenheimer)"
   ]
  },
  {
   "cell_type": "markdown",
   "metadata": {},
   "source": [
    "Now that we have our two summaries, let's compare them using spacy."
   ]
  },
  {
   "cell_type": "code",
   "execution_count": 7,
   "metadata": {},
   "outputs": [],
   "source": [
    "doc1 = nlp(barbie)\n",
    "doc2 = nlp(oppenheimer)"
   ]
  },
  {
   "cell_type": "code",
   "execution_count": 8,
   "metadata": {},
   "outputs": [
    {
     "data": {
      "text/plain": [
       "0.9866910567224084"
      ]
     },
     "execution_count": 8,
     "metadata": {},
     "output_type": "execute_result"
    }
   ],
   "source": [
    "doc1.similarity(doc2)"
   ]
  },
  {
   "cell_type": "markdown",
   "metadata": {},
   "source": [
    "Notice that both summaries have information about the other movie, about \"films\" in general, \n",
    "and about the dates each aired on (which is the same). The reality is that, the model hasn't seen \n",
    "any of these movies so it might be generalizing to the context of each article, \"movies,\" \n",
    "rather than their content, \"dolls as humans and the atomic bomb.\"\n",
    "\n",
    "You should, of course, play around with different pages and see if what you get back is coherent with \n",
    "what you would expect.\n",
    "\n",
    "Time to create a machine learning API for our use-case. 😎"
   ]
  },
  {
   "cell_type": "markdown",
   "metadata": {},
   "source": [
    "## 03 Building a Service"
   ]
  },
  {
   "cell_type": "markdown",
   "metadata": {},
   "source": [
    "MLServer allows us to wrap machine learning models into APIs and build microservices with \n",
    "replicas of a single model, or different models all together.\n",
    "\n",
    "To create a service with MLServer, we will define a class with two async functions, one that \n",
    "loads the model and another one to run inference (i.e. predict) with. The former will load the \n",
    "`spacy` model we tested in the last section, and the latter will take in a list with the two \n",
    "documents we want to compare. Lastly, our function will return a `numpy` array with a single \n",
    "value, our similarity score. We'll write the file to our `similarity_model` directory and call \n",
    "it `my_model.py`. "
   ]
  },
  {
   "cell_type": "code",
   "execution_count": null,
   "metadata": {},
   "outputs": [],
   "source": [
    "# models_hub/similarity_model/my_model.py\n",
    "\n",
    "from mlserver.codecs import decode_args\n",
    "from mlserver import MLModel\n",
    "from typing import List\n",
    "import numpy as np\n",
    "import spacy\n",
    "\n",
    "class MyKulModel(MLModel):\n",
    "\n",
    "    async def load(self):\n",
    "        self.model = spacy.load(\"en_core_web_lg\")\n",
    "    \n",
    "    @decode_args\n",
    "    async def predict(self, docs: List[str]) -> np.ndarray:\n",
    "\n",
    "        doc1 = self.model(docs[0])\n",
    "        doc2 = self.model(docs[1])\n",
    "\n",
    "        return np.array(doc1.similarity(doc2))"
   ]
  },
  {
   "cell_type": "markdown",
   "metadata": {},
   "source": [
    "Now that we have our model file ready to go, the last piece of the puzzle is to tell MLServer a bit of info \n",
    "about it. In particular, it wants (or needs) to know the name of the model and how to implement \n",
    "it. The former can be anything you want (and it will be part of the URL of your API), and the latter will \n",
    "follow the recipe of `name_of_py_file_with_your_model.class_with_your_model`.\n",
    "\n",
    "Let's create the `model-settings.json` file MLServer is expecting inside our `similarity_model` directory \n",
    "and add the name and the implementation of our model to it."
   ]
  },
  {
   "cell_type": "code",
   "execution_count": 11,
   "metadata": {},
   "outputs": [
    {
     "name": "stdout",
     "output_type": "stream",
     "text": [
      "Writing models_hub/similarity_model/model-settings.json\n"
     ]
    }
   ],
   "source": [
    "# models_hub/similarity_model/model-settings.json\n",
    "\n",
    "{\n",
    "    \"name\": \"doc-sim-model\",\n",
    "    \"implementation\": \"my_model.MyKulModel\"\n",
    "}"
   ]
  },
  {
   "cell_type": "markdown",
   "metadata": {},
   "source": [
    "Now that everything is in place, we can start serving predictions locally to test how things would play \n",
    "out for our future users. We'll initiate our server via the command line, and later on we'll see how to \n",
    "do the same via Python files. Here's where we are at right now in the process of developing microservices \n",
    "with MLServer.\n",
    "\n",
    "![start](./images/start_service.png)\n",
    "\n",
    "As you can see in the image, our server will be initialized with three entry points, one for HTTP requests, \n",
    "another for gRPC, and another for the metrics. To learn more about the powerful metrics feature of MLServer, \n",
    "please visit the relevant docs page [here](https://mlserver.readthedocs.io/en/latest/user-guide/metrics.html). \n",
    "To learn more about gRPC, please see this tutorial [here](https://realpython.com/python-microservices-grpc/).\n",
    "\n",
    "To start our service, open up a terminal and run the following command.\n",
    "\n",
    "```bash\n",
    "mlserver start models_hub/similarity_model/\n",
    "```\n",
    "\n",
    "Note: If this is a fresh terminal, make sure you activate your environment before you run the command above. \n",
    "If you run the command above from your notebook (e.g. `!mlserver start models_hub/similarity_model/`), \n",
    "you will have to send the request below from another notebook or terminal since the cell will continue to run \n",
    "until you turn it off."
   ]
  },
  {
   "cell_type": "markdown",
   "metadata": {},
   "source": [
    "## 04 Testing our Service"
   ]
  },
  {
   "cell_type": "markdown",
   "metadata": {},
   "source": [
    "Time to become a client of our service and test it. For this, we'll set up the payload we'll send \n",
    "to our service and use the `requests` library to [POST](https://www.baeldung.com/cs/http-get-vs-post) our request."
   ]
  },
  {
   "cell_type": "code",
   "execution_count": 12,
   "metadata": {},
   "outputs": [],
   "source": [
    "from mlserver.codecs import StringCodec\n",
    "import requests"
   ]
  },
  {
   "cell_type": "markdown",
   "metadata": {},
   "source": [
    "Please note that the request below uses the variables we created earlier with the summaries \n",
    "of Barbie and Oppenheimer. If you are sending this POST request from a fresh python file, make \n",
    "sure you move those lines of code into your request file."
   ]
  },
  {
   "cell_type": "code",
   "execution_count": 16,
   "metadata": {},
   "outputs": [
    {
     "data": {
      "text/plain": [
       "{'inputs': [{'name': 'docs',\n",
       "   'shape': [2, 1],\n",
       "   'datatype': 'BYTES',\n",
       "   'parameters': {'content_type': 'str'},\n",
       "   'data': ['Barbie is a 2023 American fantasy comedy film directed by Greta Gerwig and written by Gerwig and Noah Baumbach. Based on the Barbie fashion dolls by Mattel, it is the first live-action Barbie film after numerous computer-animated direct-to-video and streaming television films. The film stars Margot Robbie as Barbie and Ryan Gosling as Ken, and follows the two on a journey of self-discovery following an existential crisis. The film also features an ensemble cast that includes America Ferrera, Kate McKinnon, Issa Rae, Rhea Perlman, and Will Ferrell.\\nA live-action Barbie film was announced in September 2009 by Universal Pictures with Laurence Mark producing. Development began in April 2014, when Sony Pictures acquired the film rights. Following multiple writer and director changes and the casting of Amy Schumer and later Anne Hathaway as Barbie, the rights were transferred to Warner Bros. Pictures in October 2018. Robbie was cast in 2019, and Gerwig was announced as director and co-writer with Baumbach in 2021. The rest of the cast were announced in early 2022. Filming took place primarily at Warner Bros. Studios, Leavesden, in England and on the Venice Beach Skatepark in Los Angeles from March to July 2022.\\nBarbie premiered at the Shrine Auditorium in Los Angeles on July 9, 2023, and was theatrically released in the United States on July 21, 2023, by Warner Bros. Pictures. Its simultaneous release with Oppenheimer led to the \"Barbenheimer\" phenomenon on social media, which encouraged audiences to see both films as a double feature. The film received positive reviews, and has grossed $382 million worldwide.',\n",
       "    'Oppenheimer is a 2023 biographical thriller film written and directed by Christopher Nolan. Based on the 2005 biography American Prometheus by Kai Bird and Martin J. Sherwin, the film chronicles the life of J. Robert Oppenheimer, a theoretical physicist who was pivotal in developing the first nuclear weapons as part of the Manhattan Project, and thereby ushering in the Atomic Age. Cillian Murphy stars as Oppenheimer, with Emily Blunt as Oppenheimer\\'s wife Katherine \"Kitty\" Oppenheimer; Matt Damon as General Leslie Groves, director of the Manhattan Project; and Robert Downey Jr. as Lewis Strauss, a senior member of the United States Atomic Energy Commission. The ensemble supporting cast includes Florence Pugh, Josh Hartnett, Casey Affleck, Rami Malek, Gary Oldman and Kenneth Branagh.\\nThe project was announced in September 2021 after Universal Pictures won a bidding war for Nolan\\'s screenplay. Murphy signed on to portray Oppenheimer in October, with others in the main cast joining between November 2021 and April 2022. Pre-production was underway by January 2022, with filming taking place from February to May. Oppenheimer was filmed in a combination of IMAX 65 mm and 65 mm large-format film, including, for the first time in history, sections in IMAX black-and-white film photography. As with his previous works, Nolan used extensive practical effects and minimal computer-generated imagery.\\nOppenheimer premiered at Le Grand Rex in Paris on July 11, 2023, and was theatrically released in the United States and United Kingdom on July 21, 2023, by Universal Pictures. Its simultaneous release with Barbie led to the \"Barbenheimer\" phenomenon on social media, which encouraged audiences to see both films as a double feature. The film has grossed over $192 million worldwide and received critical acclaim, with particular praise for its cast, screenplay, and visuals.']}]}"
      ]
     },
     "execution_count": 16,
     "metadata": {},
     "output_type": "execute_result"
    }
   ],
   "source": [
    "inference_request = {\n",
    "    \"inputs\": [\n",
    "        StringCodec.encode_input(name='docs', payload=[barbie, oppenheimer], use_bytes=False).dict()\n",
    "    ]\n",
    "}\n",
    "inference_request"
   ]
  },
  {
   "cell_type": "code",
   "execution_count": 18,
   "metadata": {},
   "outputs": [],
   "source": [
    "r = requests.post('http://0.0.0.0:8080/v2/models/doc-sim-model/infer', json=inference_request)"
   ]
  },
  {
   "cell_type": "code",
   "execution_count": 20,
   "metadata": {},
   "outputs": [
    {
     "data": {
      "text/plain": [
       "{'model_name': 'doc-sim-model',\n",
       " 'id': 'a4665ddb-1868-4523-bd00-a25902d9b124',\n",
       " 'parameters': {},\n",
       " 'outputs': [{'name': 'output-0',\n",
       "   'shape': [1],\n",
       "   'datatype': 'FP64',\n",
       "   'parameters': {'content_type': 'np'},\n",
       "   'data': [0.9866910567224084]}]}"
      ]
     },
     "execution_count": 20,
     "metadata": {},
     "output_type": "execute_result"
    }
   ],
   "source": [
    "r.json()"
   ]
  },
  {
   "cell_type": "code",
   "execution_count": 21,
   "metadata": {},
   "outputs": [
    {
     "name": "stdout",
     "output_type": "stream",
     "text": [
      "Our movies are 98.6691% similar\n"
     ]
    }
   ],
   "source": [
    "print(f\"Our movies are {round(r.json()['outputs'][0]['data'][0] * 100, 4)}% similar!\")"
   ]
  },
  {
   "cell_type": "markdown",
   "metadata": {},
   "source": [
    "Let's decompose what just happened.\n",
    "\n",
    "The `URL` for our service might seem a bit odd if you've never heard of the V2/Open Inference Protocol (OIP). This \n",
    "protocol is a set of specifications that allows machine learning models to be shared and deployed in a \n",
    "standardized way. This protocol enables the use of machine learning models on a variety of platforms and \n",
    "devices without requiring changes to the model or its code. The OIP is useful because it allows us\n",
    "to integrate machine learning into a wide range of applications in a standard way.\n",
    "\n",
    "All URLs you create with MLServer will have the following structure.\n",
    "\n",
    "![v2](images/urlv2.png)\n",
    "\n",
    "This kind of protocol is a standard adopted by different companies like NVIDIA, Tensorflow Serving, \n",
    "KServe, and others, to keep everyone on the same page. If you think about driving cars globally, \n",
    "your country has to apply a standard for driving on a particular side of the road, and this ensures \n",
    "you and everyone else stays on the left (or the right depending on where you are at). Adopting this \n",
    "means that you won't have to wonder where the next driver is going to come out of when you are driving \n",
    "and are about to take a turn, instead, you can focus on getting to where you're going to without much worrying.\n",
    "\n",
    "Let's describe what each of the components of our `inference_request` does.\n",
    "- `name`: this maps one-to-one to the name of the parameter in your `predict()` function.\n",
    "- `shape`: represents the shape of the elements in our `data`. In our case, it is a list with `[2]` strings.\n",
    "- `datatype`: the different data types expected by the server, e.g., str, numpy array, pandas dataframe, bytes, etc.\n",
    "- `parameters`: allows us to specify the `content_type` beyond the data types \n",
    "- `data`: the inputs to our predict function.\n",
    "\n",
    "To learn more about the OIP and how MLServer content types work, please have a looks at their \n",
    "[docs page here](https://mlserver.readthedocs.io/en/latest/user-guide/content-type.html)."
   ]
  },
  {
   "cell_type": "markdown",
   "metadata": {},
   "source": [
    "## 05 Creating Model Replicas"
   ]
  },
  {
   "cell_type": "markdown",
   "metadata": {},
   "source": [
    "Say you need to meet the demand of a high number of users and one model might not be enough, or is not using \n",
    "all of the resources of the instance it was allocated on. What we can do in this case is to create multiple \n",
    "replicas of our model to increase the throughput of the requests that come in. This can be particularly useful \n",
    "at the peak times of our server. To do this we need to tweak the Settings of our server via the `settings.json` \n",
    "file. In it, we'll add the number of independent model we want to have to the parameter `\"parallel_workers\": 3`.\n",
    "\n",
    "Let's stop our server, change the settings of it, start it again, and test it."
   ]
  },
  {
   "cell_type": "code",
   "execution_count": 23,
   "metadata": {},
   "outputs": [
    {
     "name": "stdout",
     "output_type": "stream",
     "text": [
      "Writing models_hub/similarity_model/settings.json\n"
     ]
    }
   ],
   "source": [
    "# models_hub/similarity_model/settings.json\n",
    "\n",
    "{\n",
    "    \"parallel_workers\": 3\n",
    "}"
   ]
  },
  {
   "cell_type": "markdown",
   "metadata": {},
   "source": [
    "![multiplemodels](./images/multiple_models.png)\n",
    "\n",
    "As you can see in the output of the terminal, we now have 3 models running in parallel. The reason you might see 4 \n",
    "is because, by default, MLServer will print the name of the initialized model if it is one or more, and it will also \n",
    "print one for each of the replicas specified in the settings.\n",
    "\n",
    "Let's get a few more [twin films examples](https://en.wikipedia.org/wiki/Twin_films) to test our server. Get \n",
    "as creative as you'd like. 💡"
   ]
  },
  {
   "cell_type": "code",
   "execution_count": 25,
   "metadata": {},
   "outputs": [],
   "source": [
    "deep_impact    = wiki_wiki.page('Deep_Impact_(film)').summary\n",
    "armageddon     = wiki_wiki.page('Armageddon_(1998_film)').summary\n",
    "\n",
    "antz           = wiki_wiki.page('Antz').summary\n",
    "a_bugs_life    = wiki_wiki.page(\"A_Bug's_Life\").summary\n",
    "\n",
    "the_dark_night = wiki_wiki.page('The_Dark_Knight').summary\n",
    "mamma_mia      = wiki_wiki.page('Mamma_Mia!_(film)').summary"
   ]
  },
  {
   "cell_type": "code",
   "execution_count": 24,
   "metadata": {},
   "outputs": [],
   "source": [
    "def get_sim_score(movie1, movie2):\n",
    "    response = requests.post(\n",
    "        'http://0.0.0.0:8080/v2/models/doc-sim-model/infer', \n",
    "        json={\n",
    "            \"inputs\": [\n",
    "                StringCodec.encode_input(name='docs', payload=[movie1, movie2], use_bytes=False).dict()\n",
    "            ]\n",
    "        })\n",
    "    return response.json()['outputs'][0]['data'][0]"
   ]
  },
  {
   "cell_type": "markdown",
   "metadata": {},
   "source": [
    "Let's first test that the function works as intended."
   ]
  },
  {
   "cell_type": "code",
   "execution_count": 26,
   "metadata": {},
   "outputs": [
    {
     "data": {
      "text/plain": [
       "0.9569279450151813"
      ]
     },
     "execution_count": 26,
     "metadata": {},
     "output_type": "execute_result"
    }
   ],
   "source": [
    "get_sim_score(deep_impact, armageddon)"
   ]
  },
  {
   "cell_type": "markdown",
   "metadata": {},
   "source": [
    "Now let's map three POST requests at the same time."
   ]
  },
  {
   "cell_type": "code",
   "execution_count": 27,
   "metadata": {},
   "outputs": [
    {
     "data": {
      "text/plain": [
       "[0.9569279450151813, 0.9725374771538605, 0.9626173937217876]"
      ]
     },
     "execution_count": 27,
     "metadata": {},
     "output_type": "execute_result"
    }
   ],
   "source": [
    "results = list(\n",
    "    map(get_sim_score, (deep_impact, antz, the_dark_night), (armageddon, a_bugs_life, mamma_mia))\n",
    ")\n",
    "results"
   ]
  },
  {
   "cell_type": "markdown",
   "metadata": {},
   "source": [
    "We can also test it one by one."
   ]
  },
  {
   "cell_type": "code",
   "execution_count": 28,
   "metadata": {},
   "outputs": [
    {
     "name": "stdout",
     "output_type": "stream",
     "text": [
      "0.9569279450151813\n",
      "0.9725374771538605\n",
      "0.9626173937217876\n"
     ]
    }
   ],
   "source": [
    "for movie1, movie2 in zip((deep_impact, antz, the_dark_night), (armageddon, a_bugs_life, mamma_mia)):\n",
    "    print(get_sim_score(movie1, movie2))"
   ]
  },
  {
   "cell_type": "markdown",
   "metadata": {},
   "source": [
    "## 06 Packaging our Service"
   ]
  },
  {
   "cell_type": "markdown",
   "metadata": {},
   "source": [
    "![serving3](./images/serving_2.png)\n",
    "\n",
    "For the last step of this quick-start guide, we are going to package our model and service into a \n",
    "docker image that we can reuse in another project, or share it with colleagues immediately. This step \n",
    "requires that we have docker installed and configured in our PCs, so if you need to set up docker, \n",
    "you can do so by following the instructions in the documentation [here](https://docs.docker.com/get-docker/).\n",
    "\n",
    "The first step is to create a `requirements.txt` file with all of our dependencies and add it to \n",
    "the directory we've been using for our service (`similarity_model`)."
   ]
  },
  {
   "cell_type": "code",
   "execution_count": 29,
   "metadata": {},
   "outputs": [
    {
     "name": "stdout",
     "output_type": "stream",
     "text": [
      "Writing models_hub/similarity_model/requirements.txt\n"
     ]
    }
   ],
   "source": [
    "# models_hub/similarity_model/requirements.txt\n",
    "\n",
    "mlserver\n",
    "spacy==3.6.0\n",
    "https://github.com/explosion/spacy-models/releases/download/en_core_web_lg-3.6.0/en_core_web_lg-3.6.0-py3-none-any.whl"
   ]
  },
  {
   "cell_type": "markdown",
   "metadata": {},
   "source": [
    "The next step is to build a docker image with our model, its dependencies and our server. If you've never heard \n",
    "of docker images before, here's a short description.\n",
    "\n",
    "> A Docker image is a lightweight, standalone, and executable package that includes everything needed to run a piece of software, including code, libraries, dependencies, and settings. It's like a carry-on bag for your application, containing everything it needs to travel safely and run smoothly in different environments. Just as a carry-on bag allows you to bring your essentials with you on a trip, a Docker image enables you to transport your application and its requirements across various computing environments, ensuring consistent and reliable deployment.\n",
    "\n",
    "MLServer has a convenient function that lets us create docker images with our services. Let's use it."
   ]
  },
  {
   "cell_type": "code",
   "execution_count": null,
   "metadata": {},
   "outputs": [],
   "source": [
    "mlserver build models_hub/similarity_model/ -t 'fancy_ml_service'"
   ]
  },
  {
   "cell_type": "markdown",
   "metadata": {},
   "source": [
    "We can check that our image was successfully build not only by looking at the logs of the previous \n",
    "command but also with the `docker images` command."
   ]
  },
  {
   "cell_type": "code",
   "execution_count": null,
   "metadata": {},
   "outputs": [],
   "source": [
    "!docker images"
   ]
  },
  {
   "cell_type": "markdown",
   "metadata": {},
   "source": [
    "Let's test that our image works as intended with the following command. Make sure you have closed your \n",
    "previous server by using `CTRL + C` in your terminal."
   ]
  },
  {
   "cell_type": "code",
   "execution_count": null,
   "metadata": {
    "vscode": {
     "languageId": "bat"
    }
   },
   "outputs": [],
   "source": [
    "docker run -it --rm -p 8080:8080 fancy_ml_service"
   ]
  },
  {
   "cell_type": "markdown",
   "metadata": {},
   "source": [
    "Now that you have a packaged and fully-functioning microservice with our model, we could deploy our container \n",
    "to a production serving platform like [Seldon Core](https://docs.seldon.io/projects/seldon-core/en/latest/#), \n",
    "or via different offerings available through the many cloud providers out there (e.g. AWS Lambda, Google \n",
    "Cloud Run, etc.). You could also run this image on KServe, a Kubernetes native tool for model serving, or \n",
    "anywhere else where you can bring in your docker image with you.\n",
    "\n",
    "To learn more about MLServer and the different ways in which you can use it, head over to the \n",
    "[examples](https://mlserver.readthedocs.io/en/latest/examples/index.html) section \n",
    "or the [user guide](https://mlserver.readthedocs.io/en/latest/user-guide/index.html). To learn about \n",
    "some of the deployment options available, head over to the docs [here](https://mlserver.readthedocs.io/en/stable/user-guide/deployment/index.html).\n",
    "\n",
    "To keep up to date with what we are up to at Seldon, make sure you join our \n",
    "[Slack community](https://join.slack.com/t/seldondev/shared_invite/zt-vejg6ttd-ksZiQs3O_HOtPQsen_labg)."
   ]
  }
 ],
 "metadata": {
  "kernelspec": {
   "display_name": "musicbundle",
   "language": "python",
   "name": "python3"
  },
  "language_info": {
   "codemirror_mode": {
    "name": "ipython",
    "version": 3
   },
   "file_extension": ".py",
   "mimetype": "text/x-python",
   "name": "python",
   "nbconvert_exporter": "python",
   "pygments_lexer": "ipython3",
   "version": "3.11.4"
  },
  "orig_nbformat": 4
 },
 "nbformat": 4,
 "nbformat_minor": 2
}
